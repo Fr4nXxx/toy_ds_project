{
 "cells": [
  {
   "cell_type": "markdown",
   "metadata": {},
   "source": [
    "# Group Project on Risk Factors of Heart Attack\n",
    "**Aparna Varma, Ariel Chen, Edurado Mejia, Frank Zhang**"
   ]
  },
  {
   "cell_type": "markdown",
   "metadata": {},
   "source": [
    "### 1. Introduction "
   ]
  },
  {
   "cell_type": "markdown",
   "metadata": {},
   "source": [
    "&ensp; &ensp; &ensp;Historically, heart attacks have been one of the biggest problems that humans have had to deal with when looking at their health. There are various factors influencing the probability of getting heart attacks like age, sex… Some factors are what we are born with and can not control, but some are things we can change by having a healthier lifestyle. In this project, we will specifically look at the question:  “Given the cholesterol and resting blood pressure of an individual, is it possible to predict if that individual has a higher chance of having a heart attack?”  We will study this problem by investging the dataset in https://www.kaggle.com/rashikrahmanpritom/heart-attack-analysis-prediction-dataset, by evaluating and analyzing the relationship between cholesterol, resting blood pressure and heart attacks for individuals. The data set uses many variables, including these two as well as ECG data and other identifiers such as anginas (a type of chest pain) to predict the chance of a heart attack. \n",
    "    \n"
   ]
  },
  {
   "cell_type": "markdown",
   "metadata": {},
   "source": [
    "### 2. Analysis"
   ]
  },
  {
   "cell_type": "markdown",
   "metadata": {},
   "source": [
    "&ensp; &ensp; &ensp; The goal of this analysis is to predict and visualize an individual’s chance of getting a heart attack at some point in their lives. Using the data set that we have obtained, we will use classification for K-nearest neighbours to train and test our model. \n",
    "\n",
    "&ensp; &ensp; &ensp;The variables that we will use are resting blood pressure (trtbps, mmHg), cholesterol (chol, mg/dl), and the output (0 for low chance, 1 for a high chance). We can visualize our data by standardizing both variables (blood pressure and cholesterol) and making the output variable define their color. \n",
    "\n",
    "&ensp; &ensp; &ensp;To run our analysis the data will be split into a training and test set, and a cross-validation will be performed to test the accuracy of our model. We will use tune_grid to allow us to compare our knn variables and find the appropriate neighbors value. \n",
    "\n",
    "&ensp; &ensp; &ensp;We can visualize our results by printing out a confusion matrix to easily interpret how our model performed by seeing how many observations are labeled correctly. We can perform further analysis into seeing the strength of our model by testing it on historical data of individuals that have had heart attacks (using cholesterol and blood pressure data alone). \n"
   ]
  },
  {
   "cell_type": "markdown",
   "metadata": {},
   "source": [
    "### 3. Expected outcomes"
   ]
  },
  {
   "cell_type": "markdown",
   "metadata": {},
   "source": [
    "&ensp; &ensp; &ensp;From this project we expect to establish if it is possible to predict the chance of a heart attack from an individual’s cholesterol and blood pressure levels. We expect to find a model that can reasonably predict the chance of a heart attack, although we concede that there are many more factors that affect our result such as age, sex, histroy of anginas, fasting blood sugar, ecg scans, and more.  By obtaining a predictive model, we can give people an idea on what lifestyle changes they can make to lower their chance of heart diseases. This can also impose future questions for the governing health bodies such as BC’s ministry of health for how they can educate younger individuals in ways to improve people's lifestyles so that they can avoid heart diseases as they grow older. \n"
   ]
  },
  {
   "cell_type": "markdown",
   "metadata": {},
   "source": [
    "### 4. Preliminary exploratory data analysis"
   ]
  },
  {
   "cell_type": "markdown",
   "metadata": {},
   "source": [
    "All preliminary exploratories done on the data set is included in the code below. Key explanations of the code are included as annotations."
   ]
  },
  {
   "cell_type": "code",
   "execution_count": 69,
   "metadata": {},
   "outputs": [],
   "source": [
    "library(tidyverse)\n",
    "library(repr)\n",
    "library(tidymodels)\n",
    "options(repr.matrix.max.rows = 6)"
   ]
  },
  {
   "cell_type": "code",
   "execution_count": 70,
   "metadata": {},
   "outputs": [
    {
     "name": "stderr",
     "output_type": "stream",
     "text": [
      "Parsed with column specification:\n",
      "cols(\n",
      "  age = \u001b[32mcol_double()\u001b[39m,\n",
      "  sex = \u001b[32mcol_double()\u001b[39m,\n",
      "  cp = \u001b[32mcol_double()\u001b[39m,\n",
      "  trtbps = \u001b[32mcol_double()\u001b[39m,\n",
      "  chol = \u001b[32mcol_double()\u001b[39m,\n",
      "  fbs = \u001b[32mcol_double()\u001b[39m,\n",
      "  restecg = \u001b[32mcol_double()\u001b[39m,\n",
      "  thalachh = \u001b[32mcol_double()\u001b[39m,\n",
      "  exng = \u001b[32mcol_double()\u001b[39m,\n",
      "  oldpeak = \u001b[32mcol_double()\u001b[39m,\n",
      "  slp = \u001b[32mcol_double()\u001b[39m,\n",
      "  caa = \u001b[32mcol_double()\u001b[39m,\n",
      "  thall = \u001b[32mcol_double()\u001b[39m,\n",
      "  output = \u001b[32mcol_double()\u001b[39m\n",
      ")\n",
      "\n"
     ]
    },
    {
     "data": {
      "text/html": [
       "<table>\n",
       "<caption>A spec_tbl_df: 303 × 14</caption>\n",
       "<thead>\n",
       "\t<tr><th scope=col>age</th><th scope=col>sex</th><th scope=col>cp</th><th scope=col>trtbps</th><th scope=col>chol</th><th scope=col>fbs</th><th scope=col>restecg</th><th scope=col>thalachh</th><th scope=col>exng</th><th scope=col>oldpeak</th><th scope=col>slp</th><th scope=col>caa</th><th scope=col>thall</th><th scope=col>output</th></tr>\n",
       "\t<tr><th scope=col>&lt;dbl&gt;</th><th scope=col>&lt;fct&gt;</th><th scope=col>&lt;fct&gt;</th><th scope=col>&lt;dbl&gt;</th><th scope=col>&lt;dbl&gt;</th><th scope=col>&lt;dbl&gt;</th><th scope=col>&lt;dbl&gt;</th><th scope=col>&lt;dbl&gt;</th><th scope=col>&lt;fct&gt;</th><th scope=col>&lt;dbl&gt;</th><th scope=col>&lt;dbl&gt;</th><th scope=col>&lt;dbl&gt;</th><th scope=col>&lt;dbl&gt;</th><th scope=col>&lt;fct&gt;</th></tr>\n",
       "</thead>\n",
       "<tbody>\n",
       "\t<tr><td>63</td><td>1</td><td>3</td><td>145</td><td>233</td><td>1</td><td>0</td><td>150</td><td>0</td><td>2.3</td><td>0</td><td>0</td><td>1</td><td>1</td></tr>\n",
       "\t<tr><td>37</td><td>1</td><td>2</td><td>130</td><td>250</td><td>0</td><td>1</td><td>187</td><td>0</td><td>3.5</td><td>0</td><td>0</td><td>2</td><td>1</td></tr>\n",
       "\t<tr><td>41</td><td>0</td><td>1</td><td>130</td><td>204</td><td>0</td><td>0</td><td>172</td><td>0</td><td>1.4</td><td>2</td><td>0</td><td>2</td><td>1</td></tr>\n",
       "\t<tr><td>⋮</td><td>⋮</td><td>⋮</td><td>⋮</td><td>⋮</td><td>⋮</td><td>⋮</td><td>⋮</td><td>⋮</td><td>⋮</td><td>⋮</td><td>⋮</td><td>⋮</td><td>⋮</td></tr>\n",
       "\t<tr><td>68</td><td>1</td><td>0</td><td>144</td><td>193</td><td>1</td><td>1</td><td>141</td><td>0</td><td>3.4</td><td>1</td><td>2</td><td>3</td><td>0</td></tr>\n",
       "\t<tr><td>57</td><td>1</td><td>0</td><td>130</td><td>131</td><td>0</td><td>1</td><td>115</td><td>1</td><td>1.2</td><td>1</td><td>1</td><td>3</td><td>0</td></tr>\n",
       "\t<tr><td>57</td><td>0</td><td>1</td><td>130</td><td>236</td><td>0</td><td>0</td><td>174</td><td>0</td><td>0.0</td><td>1</td><td>1</td><td>2</td><td>0</td></tr>\n",
       "</tbody>\n",
       "</table>\n"
      ],
      "text/latex": [
       "A spec\\_tbl\\_df: 303 × 14\n",
       "\\begin{tabular}{llllllllllllll}\n",
       " age & sex & cp & trtbps & chol & fbs & restecg & thalachh & exng & oldpeak & slp & caa & thall & output\\\\\n",
       " <dbl> & <fct> & <fct> & <dbl> & <dbl> & <dbl> & <dbl> & <dbl> & <fct> & <dbl> & <dbl> & <dbl> & <dbl> & <fct>\\\\\n",
       "\\hline\n",
       "\t 63 & 1 & 3 & 145 & 233 & 1 & 0 & 150 & 0 & 2.3 & 0 & 0 & 1 & 1\\\\\n",
       "\t 37 & 1 & 2 & 130 & 250 & 0 & 1 & 187 & 0 & 3.5 & 0 & 0 & 2 & 1\\\\\n",
       "\t 41 & 0 & 1 & 130 & 204 & 0 & 0 & 172 & 0 & 1.4 & 2 & 0 & 2 & 1\\\\\n",
       "\t ⋮ & ⋮ & ⋮ & ⋮ & ⋮ & ⋮ & ⋮ & ⋮ & ⋮ & ⋮ & ⋮ & ⋮ & ⋮ & ⋮\\\\\n",
       "\t 68 & 1 & 0 & 144 & 193 & 1 & 1 & 141 & 0 & 3.4 & 1 & 2 & 3 & 0\\\\\n",
       "\t 57 & 1 & 0 & 130 & 131 & 0 & 1 & 115 & 1 & 1.2 & 1 & 1 & 3 & 0\\\\\n",
       "\t 57 & 0 & 1 & 130 & 236 & 0 & 0 & 174 & 0 & 0.0 & 1 & 1 & 2 & 0\\\\\n",
       "\\end{tabular}\n"
      ],
      "text/markdown": [
       "\n",
       "A spec_tbl_df: 303 × 14\n",
       "\n",
       "| age &lt;dbl&gt; | sex &lt;fct&gt; | cp &lt;fct&gt; | trtbps &lt;dbl&gt; | chol &lt;dbl&gt; | fbs &lt;dbl&gt; | restecg &lt;dbl&gt; | thalachh &lt;dbl&gt; | exng &lt;fct&gt; | oldpeak &lt;dbl&gt; | slp &lt;dbl&gt; | caa &lt;dbl&gt; | thall &lt;dbl&gt; | output &lt;fct&gt; |\n",
       "|---|---|---|---|---|---|---|---|---|---|---|---|---|---|\n",
       "| 63 | 1 | 3 | 145 | 233 | 1 | 0 | 150 | 0 | 2.3 | 0 | 0 | 1 | 1 |\n",
       "| 37 | 1 | 2 | 130 | 250 | 0 | 1 | 187 | 0 | 3.5 | 0 | 0 | 2 | 1 |\n",
       "| 41 | 0 | 1 | 130 | 204 | 0 | 0 | 172 | 0 | 1.4 | 2 | 0 | 2 | 1 |\n",
       "| ⋮ | ⋮ | ⋮ | ⋮ | ⋮ | ⋮ | ⋮ | ⋮ | ⋮ | ⋮ | ⋮ | ⋮ | ⋮ | ⋮ |\n",
       "| 68 | 1 | 0 | 144 | 193 | 1 | 1 | 141 | 0 | 3.4 | 1 | 2 | 3 | 0 |\n",
       "| 57 | 1 | 0 | 130 | 131 | 0 | 1 | 115 | 1 | 1.2 | 1 | 1 | 3 | 0 |\n",
       "| 57 | 0 | 1 | 130 | 236 | 0 | 0 | 174 | 0 | 0.0 | 1 | 1 | 2 | 0 |\n",
       "\n"
      ],
      "text/plain": [
       "    age sex cp trtbps chol fbs restecg thalachh exng oldpeak slp caa thall\n",
       "1   63  1   3  145    233  1   0       150      0    2.3     0   0   1    \n",
       "2   37  1   2  130    250  0   1       187      0    3.5     0   0   2    \n",
       "3   41  0   1  130    204  0   0       172      0    1.4     2   0   2    \n",
       "⋮   ⋮   ⋮   ⋮  ⋮      ⋮    ⋮   ⋮       ⋮        ⋮    ⋮       ⋮   ⋮   ⋮    \n",
       "301 68  1   0  144    193  1   1       141      0    3.4     1   2   3    \n",
       "302 57  1   0  130    131  0   1       115      1    1.2     1   1   3    \n",
       "303 57  0   1  130    236  0   0       174      0    0.0     1   1   2    \n",
       "    output\n",
       "1   1     \n",
       "2   1     \n",
       "3   1     \n",
       "⋮   ⋮     \n",
       "301 0     \n",
       "302 0     \n",
       "303 0     "
      ]
     },
     "metadata": {},
     "output_type": "display_data"
    },
    {
     "data": {
      "text/html": [
       "<table>\n",
       "<caption>A tibble: 1 × 1</caption>\n",
       "<thead>\n",
       "\t<tr><th scope=col>number_of_rows</th></tr>\n",
       "\t<tr><th scope=col>&lt;int&gt;</th></tr>\n",
       "</thead>\n",
       "<tbody>\n",
       "\t<tr><td>303</td></tr>\n",
       "</tbody>\n",
       "</table>\n"
      ],
      "text/latex": [
       "A tibble: 1 × 1\n",
       "\\begin{tabular}{l}\n",
       " number\\_of\\_rows\\\\\n",
       " <int>\\\\\n",
       "\\hline\n",
       "\t 303\\\\\n",
       "\\end{tabular}\n"
      ],
      "text/markdown": [
       "\n",
       "A tibble: 1 × 1\n",
       "\n",
       "| number_of_rows &lt;int&gt; |\n",
       "|---|\n",
       "| 303 |\n",
       "\n"
      ],
      "text/plain": [
       "  number_of_rows\n",
       "1 303           "
      ]
     },
     "metadata": {},
     "output_type": "display_data"
    },
    {
     "data": {
      "text/html": [
       "<table>\n",
       "<caption>A tibble: 1 × 10</caption>\n",
       "<thead>\n",
       "\t<tr><th scope=col>age</th><th scope=col>trtbps</th><th scope=col>chol</th><th scope=col>fbs</th><th scope=col>restecg</th><th scope=col>thalachh</th><th scope=col>oldpeak</th><th scope=col>slp</th><th scope=col>caa</th><th scope=col>thall</th></tr>\n",
       "\t<tr><th scope=col>&lt;dbl&gt;</th><th scope=col>&lt;dbl&gt;</th><th scope=col>&lt;dbl&gt;</th><th scope=col>&lt;dbl&gt;</th><th scope=col>&lt;dbl&gt;</th><th scope=col>&lt;dbl&gt;</th><th scope=col>&lt;dbl&gt;</th><th scope=col>&lt;dbl&gt;</th><th scope=col>&lt;dbl&gt;</th><th scope=col>&lt;dbl&gt;</th></tr>\n",
       "</thead>\n",
       "<tbody>\n",
       "\t<tr><td>54.36634</td><td>131.6238</td><td>246.264</td><td>0.1485149</td><td>0.5280528</td><td>149.6469</td><td>1.039604</td><td>1.39934</td><td>0.7293729</td><td>2.313531</td></tr>\n",
       "</tbody>\n",
       "</table>\n"
      ],
      "text/latex": [
       "A tibble: 1 × 10\n",
       "\\begin{tabular}{llllllllll}\n",
       " age & trtbps & chol & fbs & restecg & thalachh & oldpeak & slp & caa & thall\\\\\n",
       " <dbl> & <dbl> & <dbl> & <dbl> & <dbl> & <dbl> & <dbl> & <dbl> & <dbl> & <dbl>\\\\\n",
       "\\hline\n",
       "\t 54.36634 & 131.6238 & 246.264 & 0.1485149 & 0.5280528 & 149.6469 & 1.039604 & 1.39934 & 0.7293729 & 2.313531\\\\\n",
       "\\end{tabular}\n"
      ],
      "text/markdown": [
       "\n",
       "A tibble: 1 × 10\n",
       "\n",
       "| age &lt;dbl&gt; | trtbps &lt;dbl&gt; | chol &lt;dbl&gt; | fbs &lt;dbl&gt; | restecg &lt;dbl&gt; | thalachh &lt;dbl&gt; | oldpeak &lt;dbl&gt; | slp &lt;dbl&gt; | caa &lt;dbl&gt; | thall &lt;dbl&gt; |\n",
       "|---|---|---|---|---|---|---|---|---|---|\n",
       "| 54.36634 | 131.6238 | 246.264 | 0.1485149 | 0.5280528 | 149.6469 | 1.039604 | 1.39934 | 0.7293729 | 2.313531 |\n",
       "\n"
      ],
      "text/plain": [
       "  age      trtbps   chol    fbs       restecg   thalachh oldpeak  slp    \n",
       "1 54.36634 131.6238 246.264 0.1485149 0.5280528 149.6469 1.039604 1.39934\n",
       "  caa       thall   \n",
       "1 0.7293729 2.313531"
      ]
     },
     "metadata": {},
     "output_type": "display_data"
    }
   ],
   "source": [
    "url <- \"https://raw.githubusercontent.com/Fr4nXxx/toy_ds_project/main/heart.csv\"\n",
    "download.file(url,destfile = \"data/HeartAttackData.csv\")\n",
    "heart_data <- read_csv(\"data/HeartAttackData.csv\") %>%\n",
    "    mutate(sex = as_factor(sex), cp = as_factor(cp), exng = as_factor(exng), output = as_factor(output)) \n",
    "    #to convert all factors that were read as numeric values into factors\n",
    "heart_data\n",
    "tibble(number_of_rows = nrow(heart_data)) # to show how many rows are there in the data set\n",
    "heart_data_summary <- heart_data %>%\n",
    "    select(-sex, -cp, -exng, -output) %>%\n",
    "    map_df(mean) \n",
    "    #calculating the mean for all non-factor columns\n",
    "heart_data_summary"
   ]
  },
  {
   "cell_type": "code",
   "execution_count": 71,
   "metadata": {},
   "outputs": [
    {
     "data": {
      "image/png": "[encoded data removed]",
      "text/plain": [
       "plot without title"
      ]
     },
     "metadata": {
      "image/png": {
       "height": 420,
       "width": 420
      }
     },
     "output_type": "display_data"
    }
   ],
   "source": [
    "set.seed(1234) # setting the seed for splitting the data set\n",
    "\n",
    "heart_split <- initial_split(heart_data, prop = 0.75, strata = output) #use 75% of the data as the training set\n",
    "heart_train <- training(heart_split)   \n",
    "heart_test <- testing(heart_split)\n",
    "\n",
    "graph_1 <- heart_train %>%\n",
    "    ggplot(aes(x = age, y = trtbps)) + #plotting a graph of blood pressure vs. age\n",
    "    geom_point() +\n",
    "    labs(x = \"Age\", y = \"Resting blood pressure (mmHg)\") + \n",
    "    ggtitle(\"Resting blood pressure in mmHg vs. Age\") +\n",
    "    theme(text = element_text(size = 15))\n",
    "graph_1"
   ]
  },
  {
   "cell_type": "markdown",
   "metadata": {},
   "source": [
    "The diagram shows that there is a (weak) postive relationship between the increase in age and the increase in blood pressure."
   ]
  }
 ],
 "metadata": {
  "kernelspec": {
   "display_name": "R",
   "language": "R",
   "name": "ir"
  },
  "language_info": {
   "codemirror_mode": "r",
   "file_extension": ".r",
   "mimetype": "text/x-r-source",
   "name": "R",
   "pygments_lexer": "r",
   "version": "4.0.0"
  }
 },
 "nbformat": 4,
 "nbformat_minor": 4
}
